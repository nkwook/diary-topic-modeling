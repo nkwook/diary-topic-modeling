{
 "cells": [
  {
   "cell_type": "code",
   "execution_count": null,
   "metadata": {},
   "outputs": [],
   "source": [
    "import os\n",
    "from bs4 import BeautifulSoup\n",
    "from naver_login import NaverLogin\n",
    "\n",
    "naver = NaverLogin(os.environ['NAVER_ID'], os.environ['NAVER_PASS'])\n",
    "if not naver.login():\n",
    "    print(\"로그인 실패\")\n",
    "    exit()\n",
    "\n",
    "\n"
   ]
  },
  {
   "cell_type": "code",
   "execution_count": null,
   "metadata": {},
   "outputs": [],
   "source": [
    "\n",
    "url = 'https://blog.naver.com/gmdsi_gmdsi/223230131168'\n",
    "response = naver.get(url)\n",
    "html_soup=BeautifulSoup(response.text,'html.parser')\n",
    "iframe_url=html_soup.select('iframe#mainFrame')[0].get('src')\n",
    "iframe_response=naver.get('https://blog.naver.com' + iframe_url)\n",
    "iframe_soup=BeautifulSoup(iframe_response.text,'html.parser')\n",
    "content_text=(iframe_soup.find('div',class_='se-main-container').text)"
   ]
  },
  {
   "cell_type": "code",
   "execution_count": null,
   "metadata": {},
   "outputs": [],
   "source": []
  },
  {
   "cell_type": "code",
   "execution_count": null,
   "metadata": {},
   "outputs": [],
   "source": []
  },
  {
   "cell_type": "code",
   "execution_count": null,
   "metadata": {},
   "outputs": [],
   "source": []
  }
 ],
 "metadata": {
  "kernelspec": {
   "display_name": "diary-topic-modeling-N98n97rt",
   "language": "python",
   "name": "python3"
  },
  "language_info": {
   "codemirror_mode": {
    "name": "ipython",
    "version": 3
   },
   "file_extension": ".py",
   "mimetype": "text/x-python",
   "name": "python",
   "nbconvert_exporter": "python",
   "pygments_lexer": "ipython3",
   "version": "3.11.5"
  },
  "orig_nbformat": 4
 },
 "nbformat": 4,
 "nbformat_minor": 2
}
